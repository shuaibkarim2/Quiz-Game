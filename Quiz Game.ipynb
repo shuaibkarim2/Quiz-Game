{
 "cells": [
  {
   "cell_type": "code",
   "execution_count": 1,
   "id": "52371958",
   "metadata": {},
   "outputs": [
    {
     "name": "stdout",
     "output_type": "stream",
     "text": [
      "Welcome to AskPython Quiz\n",
      "Are you ready to play the Quiz? (yes/no): yes\n",
      "Question 1: What is your favorite programming language?python\n",
      "Correct!\n",
      "Thank you for playing this small quiz game! You attempted 1 questions correctly.\n",
      "Marks obtained: 33.3\n",
      "BYE!\n"
     ]
    }
   ],
   "source": [
    "print('Welcome to AskPython Quiz')\n",
    "answer = input('Are you ready to play the Quiz? (yes/no): ')\n",
    "score = 0\n",
    "total_questions = 3\n",
    "\n",
    "if answer.lower() == 'yes':\n",
    "    answer = input('Question 1: What is your favorite programming language?')\n",
    "    if answer.lower() == 'python':\n",
    "        score += 1\n",
    "        print('Correct!')\n",
    "    else:\n",
    "        print('Wrong Answer :(')\n",
    "\n",
    "    # Repeat similar logic for other questions...\n",
    "\n",
    "print(f'Thank you for playing this small quiz game! You attempted {score} questions correctly.')\n",
    "mark = (score / total_questions) * 100\n",
    "print(f'Marks obtained: {mark:.1f}')\n",
    "print('BYE!')\n"
   ]
  },
  {
   "cell_type": "code",
   "execution_count": null,
   "id": "ce7fac96",
   "metadata": {},
   "outputs": [],
   "source": []
  }
 ],
 "metadata": {
  "kernelspec": {
   "display_name": "Python 3 (ipykernel)",
   "language": "python",
   "name": "python3"
  },
  "language_info": {
   "codemirror_mode": {
    "name": "ipython",
    "version": 3
   },
   "file_extension": ".py",
   "mimetype": "text/x-python",
   "name": "python",
   "nbconvert_exporter": "python",
   "pygments_lexer": "ipython3",
   "version": "3.11.4"
  }
 },
 "nbformat": 4,
 "nbformat_minor": 5
}
